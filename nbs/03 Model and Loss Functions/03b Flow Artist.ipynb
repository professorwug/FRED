{
 "cells": [
  {
   "cell_type": "markdown",
   "metadata": {},
   "source": [
    "# Flow Artist"
   ]
  },
  {
   "cell_type": "code",
   "execution_count": null,
   "metadata": {},
   "outputs": [
    {
     "name": "stdout",
     "output_type": "stream",
     "text": [
      "Converted 00 Core.ipynb.\n",
      "Converted 01 Datasets.ipynb.\n",
      "Converted 01a01 Graph Toy Datasets.ipynb.\n",
      "Converted 01a01a Communities Datasets.ipynb.\n",
      "Converted 01a01b Small Random Directed Graphs.ipynb.\n",
      "Converted 01a01c Directed Stochastic Block Model.ipynb.\n",
      "Converted 01a02 Manifold Toy Datasets.ipynb.\n",
      "Converted 01a02a Polar 1-Manifold Toy Datasets.ipynb.\n",
      "Converted 01a02b Polar 2-Manifold Toy Datasets.ipynb.\n",
      "Converted 01a02c Function 1-Manifold Toy Datasets.ipynb.\n",
      "Converted 01a02d Sphere and Torus Toy Datasets.ipynb.\n",
      "Converted 01b01 Synthetic Single-Cell Data.ipynb.\n",
      "Converted 01b02 Single-Cell Data and RNA Velocity.ipynb.\n",
      "Converted 01c Plotting Utils.ipynb.\n",
      "Converted 02 Data Preprocessing.ipynb.\n",
      "Converted 02a Flashlight Kernel.ipynb.\n",
      "Converted 02b Diffusion Maps and Distances.ipynb.\n",
      "Converted 02c Flow Neighborhoods.ipynb.\n",
      "Converted 02d Flow Datasets.ipynb.\n",
      "Converted 03 Embedder.ipynb.\n",
      "Converted 03a Autoencoder.ipynb.\n",
      "Converted 03b Flow Artist.ipynb.\n",
      "Converted 03b01 Gaussian Vector Field Flow Artist.ipynb.\n",
      "Converted 03c Loss Functions.ipynb.\n",
      "Converted 03c01 Diffusion Map MSE.ipynb.\n",
      "Converted 03c02 Flow Neighbor MSE.ipynb.\n",
      "Converted 03c03 Smoothness.ipynb.\n",
      "Converted 03c04 KL Divergence.ipynb.\n",
      "Converted 03d Grid Sampler.ipynb.\n",
      "Converted 04 Trainer.ipynb.\n",
      "Converted 04a Scheduling.ipynb.\n",
      "Converted 04b Visualizations for Training.ipynb.\n",
      "Converted 04c Flavors of FRED.ipynb.\n",
      "Converted index.ipynb.\n"
     ]
    }
   ],
   "source": [
    "# default_exp embed\n",
    "\n",
    "!nbdev_build_lib"
   ]
  },
  {
   "cell_type": "code",
   "execution_count": null,
   "metadata": {},
   "outputs": [],
   "source": [
    "# export\n",
    "\n",
    "import torch\n",
    "import torch.nn as nn\n",
    "from collections import OrderedDict\n",
    "\n",
    "def flow_artist(dim = 2, device = torch.device('cpu')):\n",
    "    # Function to create tailored flow artist\n",
    "    \n",
    "    shape = [dim,dim*2,dim*4,dim*8, dim*8, dim*8, dim*8, dim*4,dim*2,dim]\n",
    "    \n",
    "    FA = nn.Sequential()\n",
    "    \n",
    "    d_len = len(shape)*2\n",
    "    d = OrderedDict()\n",
    "    d[str(0)] = nn.Linear(shape[0], shape[1])\n",
    "    for i in range(1,d_len-3):\n",
    "        if i%2 == 1:\n",
    "            d[str(i)] = nn.LeakyReLU()\n",
    "        else:\n",
    "            d[str(i)] = nn.Linear(shape[int(i/2)], shape[int(i/2)+1])\n",
    "    \n",
    "    # create MLP\n",
    "    FA = nn.Sequential(d).to(device) # d is an OrderedDictionary\n",
    "        \n",
    "    return FA"
   ]
  },
  {
   "cell_type": "markdown",
   "metadata": {},
   "source": [
    "### Example of Creating Flow Artist"
   ]
  },
  {
   "cell_type": "code",
   "execution_count": null,
   "metadata": {},
   "outputs": [
    {
     "data": {
      "text/plain": [
       "Sequential(\n",
       "  (0): Linear(in_features=2, out_features=4, bias=True)\n",
       "  (1): LeakyReLU(negative_slope=0.01)\n",
       "  (2): Linear(in_features=4, out_features=8, bias=True)\n",
       "  (3): LeakyReLU(negative_slope=0.01)\n",
       "  (4): Linear(in_features=8, out_features=8, bias=True)\n",
       "  (5): LeakyReLU(negative_slope=0.01)\n",
       "  (6): Linear(in_features=8, out_features=4, bias=True)\n",
       "  (7): LeakyReLU(negative_slope=0.01)\n",
       "  (8): Linear(in_features=4, out_features=2, bias=True)\n",
       ")"
      ]
     },
     "execution_count": null,
     "metadata": {},
     "output_type": "execute_result"
    }
   ],
   "source": [
    "FA = flow_artist()\n",
    "FA"
   ]
  },
  {
   "cell_type": "code",
   "execution_count": null,
   "metadata": {},
   "outputs": [],
   "source": []
  }
 ],
 "metadata": {
  "kernelspec": {
   "display_name": "Python 3.9.13 ('FRED')",
   "language": "python",
   "name": "python3"
  }
 },
 "nbformat": 4,
 "nbformat_minor": 2
}
